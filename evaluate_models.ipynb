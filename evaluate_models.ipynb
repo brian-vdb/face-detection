{
 "cells": [
  {
   "cell_type": "code",
   "execution_count": 49,
   "metadata": {},
   "outputs": [],
   "source": [
    "import os\n",
    "import cv2"
   ]
  },
  {
   "cell_type": "code",
   "execution_count": 50,
   "metadata": {},
   "outputs": [],
   "source": [
    "# Initialize the YuNet model\n",
    "yunet_model_path = os.path.join('yunet', 'models', 'face_detection_yunet_2023mar.onnx')\n",
    "yunet = cv2.FaceDetectorYN.create(\n",
    "    model=      yunet_model_path,\n",
    "    config=     \"\",\n",
    "    input_size= (0, 0)\n",
    ")"
   ]
  },
  {
   "cell_type": "code",
   "execution_count": 51,
   "metadata": {},
   "outputs": [],
   "source": [
    "def read_faceboxes(annotations_path: str) -> list[dict[str, any]]:\n",
    "    \"\"\"\n",
    "    Read faceboxes information from an annotations file.\n",
    "\n",
    "    Parameters:\n",
    "    - annotations_path (str): Path to the annotations file.\n",
    "\n",
    "    Returns:\n",
    "    - List[Dict[str, any]]: List of dictionaries representing faceboxes.\n",
    "    \"\"\"\n",
    "    faceboxes = []\n",
    "    num_lines = 0\n",
    "\n",
    "    with open(annotations_path, 'r') as file:\n",
    "        # Loop through the lines in the annotation file\n",
    "        for i, line in enumerate(file):\n",
    "            num_lines = i + 1\n",
    "            # Split the line into values\n",
    "            values = line.strip().split()\n",
    "\n",
    "            # Check for the end of the annotations file\n",
    "            if len(values) == 0:\n",
    "                break\n",
    "\n",
    "            # Get the image path and number of faces in the image\n",
    "            img_path = values[0]\n",
    "            face_index = 1\n",
    "\n",
    "            # Error check the line to ensure it has the expected format\n",
    "            try:\n",
    "                num_faces = int(values[face_index])\n",
    "            except ValueError:\n",
    "                print(f'Line {i}: Warning: Skipping Line; Incorrect Format:')\n",
    "                print(f'- Line: \"{line.strip()}\"')\n",
    "                continue\n",
    "\n",
    "            # Loop through every face in the picture\n",
    "            for _ in range(num_faces):\n",
    "                # Get the variables for face 'j' in the picture\n",
    "                face_x = int(values[face_index + 1])\n",
    "                face_y = int(values[face_index + 2])\n",
    "                face_w = int(values[face_index + 3])\n",
    "                face_h = int(values[face_index + 4])\n",
    "                face_index += 4\n",
    "\n",
    "                # Save the variables as a facebox\n",
    "                facebox = {\n",
    "                    'filename': img_path,\n",
    "                    'x': face_x,\n",
    "                    'y': face_y,\n",
    "                    'w': face_w,\n",
    "                    'h': face_h\n",
    "                }\n",
    "                faceboxes.append(facebox)\n",
    "\n",
    "    # Print the result for debugging\n",
    "    print(f'Info: [read_faceboxes] '\n",
    "          f'Found {len(faceboxes)} face{\"s\" if len(faceboxes) > 1 else \"\"} '\n",
    "          f'in {num_lines} picture{\"s\" if num_lines > 1 else \"\"}')\n",
    "    return faceboxes"
   ]
  },
  {
   "cell_type": "code",
   "execution_count": 52,
   "metadata": {},
   "outputs": [
    {
     "name": "stdout",
     "output_type": "stream",
     "text": [
      "Info: [read_faceboxes] Found 17 faces in 1 picture\n"
     ]
    }
   ],
   "source": [
    "faceboxes = read_faceboxes(os.path.join('evaluation', 'info.dat'))"
   ]
  }
 ],
 "metadata": {
  "kernelspec": {
   "display_name": "Python 3",
   "language": "python",
   "name": "python3"
  },
  "language_info": {
   "codemirror_mode": {
    "name": "ipython",
    "version": 3
   },
   "file_extension": ".py",
   "mimetype": "text/x-python",
   "name": "python",
   "nbconvert_exporter": "python",
   "pygments_lexer": "ipython3",
   "version": "3.11.7"
  }
 },
 "nbformat": 4,
 "nbformat_minor": 2
}
